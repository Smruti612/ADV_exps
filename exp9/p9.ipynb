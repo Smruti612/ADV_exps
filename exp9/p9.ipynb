{
 "cells": [
  {
   "cell_type": "code",
   "execution_count": 2,
   "metadata": {},
   "outputs": [],
   "source": [
    "import pandas as pd\n",
    "import numpy as np"
   ]
  },
  {
   "cell_type": "code",
   "execution_count": 4,
   "metadata": {},
   "outputs": [
    {
     "data": {
      "text/html": [
       "<div>\n",
       "<style scoped>\n",
       "    .dataframe tbody tr th:only-of-type {\n",
       "        vertical-align: middle;\n",
       "    }\n",
       "\n",
       "    .dataframe tbody tr th {\n",
       "        vertical-align: top;\n",
       "    }\n",
       "\n",
       "    .dataframe thead th {\n",
       "        text-align: right;\n",
       "    }\n",
       "</style>\n",
       "<table border=\"1\" class=\"dataframe\">\n",
       "  <thead>\n",
       "    <tr style=\"text-align: right;\">\n",
       "      <th></th>\n",
       "      <th>No</th>\n",
       "      <th>Country</th>\n",
       "      <th>Level of development</th>\n",
       "      <th>European Union Membership</th>\n",
       "      <th>Currency</th>\n",
       "      <th>Women Entrepreneurship Index</th>\n",
       "      <th>Entrepreneurship Index</th>\n",
       "      <th>Inflation rate</th>\n",
       "      <th>Female Labor Force Participation Rate</th>\n",
       "    </tr>\n",
       "  </thead>\n",
       "  <tbody>\n",
       "    <tr>\n",
       "      <th>44</th>\n",
       "      <td>43</td>\n",
       "      <td>Peru</td>\n",
       "      <td>Developing</td>\n",
       "      <td>Not Member</td>\n",
       "      <td>National Currency</td>\n",
       "      <td>43.6</td>\n",
       "      <td>30.9</td>\n",
       "      <td>3.5</td>\n",
       "      <td>63.4</td>\n",
       "    </tr>\n",
       "  </tbody>\n",
       "</table>\n",
       "</div>"
      ],
      "text/plain": [
       "    No Country Level of development European Union Membership  \\\n",
       "44  43    Peru           Developing                Not Member   \n",
       "\n",
       "             Currency  Women Entrepreneurship Index  Entrepreneurship Index  \\\n",
       "44  National Currency                          43.6                    30.9   \n",
       "\n",
       "    Inflation rate  Female Labor Force Participation Rate  \n",
       "44             3.5                                   63.4  "
      ]
     },
     "execution_count": 4,
     "metadata": {},
     "output_type": "execute_result"
    }
   ],
   "source": [
    "df=pd.read_csv(\"./datasets/women.csv\")\n",
    "df.sample()"
   ]
  },
  {
   "cell_type": "code",
   "execution_count": 5,
   "metadata": {},
   "outputs": [
    {
     "data": {
      "text/plain": [
       "Index(['No', 'Country', 'Level of development', 'European Union Membership',\n",
       "       'Currency', 'Women Entrepreneurship Index', 'Entrepreneurship Index',\n",
       "       'Inflation rate', 'Female Labor Force Participation Rate'],\n",
       "      dtype='object')"
      ]
     },
     "execution_count": 5,
     "metadata": {},
     "output_type": "execute_result"
    }
   ],
   "source": [
    "df.columns"
   ]
  },
  {
   "cell_type": "code",
   "execution_count": 6,
   "metadata": {},
   "outputs": [
    {
     "data": {
      "text/plain": [
       "No                                       0\n",
       "Country                                  0\n",
       "Level of development                     0\n",
       "European Union Membership                0\n",
       "Currency                                 0\n",
       "Women Entrepreneurship Index             0\n",
       "Entrepreneurship Index                   0\n",
       "Inflation rate                           0\n",
       "Female Labor Force Participation Rate    0\n",
       "dtype: int64"
      ]
     },
     "execution_count": 6,
     "metadata": {},
     "output_type": "execute_result"
    }
   ],
   "source": [
    "df.isnull().sum()"
   ]
  },
  {
   "cell_type": "code",
   "execution_count": 9,
   "metadata": {},
   "outputs": [
    {
     "data": {
      "text/html": [
       "<div>\n",
       "<style scoped>\n",
       "    .dataframe tbody tr th:only-of-type {\n",
       "        vertical-align: middle;\n",
       "    }\n",
       "\n",
       "    .dataframe tbody tr th {\n",
       "        vertical-align: top;\n",
       "    }\n",
       "\n",
       "    .dataframe thead th {\n",
       "        text-align: right;\n",
       "    }\n",
       "</style>\n",
       "<table border=\"1\" class=\"dataframe\">\n",
       "  <thead>\n",
       "    <tr style=\"text-align: right;\">\n",
       "      <th></th>\n",
       "      <th>No</th>\n",
       "      <th>Country</th>\n",
       "      <th>Level of development</th>\n",
       "      <th>European Union Membership</th>\n",
       "      <th>Currency</th>\n",
       "      <th>Women Entrepreneurship Index</th>\n",
       "      <th>Entrepreneurship Index</th>\n",
       "      <th>Inflation rate</th>\n",
       "      <th>Female Labor Force Participation Rate</th>\n",
       "    </tr>\n",
       "  </thead>\n",
       "  <tbody>\n",
       "    <tr>\n",
       "      <th>32</th>\n",
       "      <td>10</td>\n",
       "      <td>China</td>\n",
       "      <td>Developing</td>\n",
       "      <td>Not Member</td>\n",
       "      <td>National Currency</td>\n",
       "      <td>38.3</td>\n",
       "      <td>36.4</td>\n",
       "      <td>1.40</td>\n",
       "      <td>62.4</td>\n",
       "    </tr>\n",
       "    <tr>\n",
       "      <th>28</th>\n",
       "      <td>2</td>\n",
       "      <td>Argentina</td>\n",
       "      <td>Developing</td>\n",
       "      <td>Not Member</td>\n",
       "      <td>National Currency</td>\n",
       "      <td>35.7</td>\n",
       "      <td>37.2</td>\n",
       "      <td>26.50</td>\n",
       "      <td>47.3</td>\n",
       "    </tr>\n",
       "    <tr>\n",
       "      <th>35</th>\n",
       "      <td>15</td>\n",
       "      <td>Egypt</td>\n",
       "      <td>Developing</td>\n",
       "      <td>Not Member</td>\n",
       "      <td>National Currency</td>\n",
       "      <td>27.7</td>\n",
       "      <td>28.1</td>\n",
       "      <td>11.00</td>\n",
       "      <td>64.6</td>\n",
       "    </tr>\n",
       "    <tr>\n",
       "      <th>31</th>\n",
       "      <td>9</td>\n",
       "      <td>Brazil</td>\n",
       "      <td>Developing</td>\n",
       "      <td>Not Member</td>\n",
       "      <td>National Currency</td>\n",
       "      <td>31.1</td>\n",
       "      <td>25.8</td>\n",
       "      <td>10.67</td>\n",
       "      <td>55.9</td>\n",
       "    </tr>\n",
       "  </tbody>\n",
       "</table>\n",
       "</div>"
      ],
      "text/plain": [
       "    No    Country Level of development European Union Membership  \\\n",
       "32  10      China           Developing                Not Member   \n",
       "28   2  Argentina           Developing                Not Member   \n",
       "35  15      Egypt           Developing                Not Member   \n",
       "31   9     Brazil           Developing                Not Member   \n",
       "\n",
       "             Currency  Women Entrepreneurship Index  Entrepreneurship Index  \\\n",
       "32  National Currency                          38.3                    36.4   \n",
       "28  National Currency                          35.7                    37.2   \n",
       "35  National Currency                          27.7                    28.1   \n",
       "31  National Currency                          31.1                    25.8   \n",
       "\n",
       "    Inflation rate  Female Labor Force Participation Rate  \n",
       "32            1.40                                   62.4  \n",
       "28           26.50                                   47.3  \n",
       "35           11.00                                   64.6  \n",
       "31           10.67                                   55.9  "
      ]
     },
     "execution_count": 9,
     "metadata": {},
     "output_type": "execute_result"
    }
   ],
   "source": [
    "df.sample(4)"
   ]
  },
  {
   "cell_type": "code",
   "execution_count": null,
   "metadata": {},
   "outputs": [],
   "source": []
  }
 ],
 "metadata": {
  "kernelspec": {
   "display_name": "Python 3",
   "language": "python",
   "name": "python3"
  },
  "language_info": {
   "codemirror_mode": {
    "name": "ipython",
    "version": 3
   },
   "file_extension": ".py",
   "mimetype": "text/x-python",
   "name": "python",
   "nbconvert_exporter": "python",
   "pygments_lexer": "ipython3",
   "version": "3.12.3"
  }
 },
 "nbformat": 4,
 "nbformat_minor": 2
}
